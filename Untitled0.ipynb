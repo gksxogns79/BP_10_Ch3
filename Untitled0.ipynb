{
  "nbformat": 4,
  "nbformat_minor": 0,
  "metadata": {
    "colab": {
      "provenance": [],
      "authorship_tag": "ABX9TyO7T7iRUHaH5a9BVdAccdfq",
      "include_colab_link": true
    },
    "kernelspec": {
      "name": "python3",
      "display_name": "Python 3"
    },
    "language_info": {
      "name": "python"
    }
  },
  "cells": [
    {
      "cell_type": "markdown",
      "metadata": {
        "id": "view-in-github",
        "colab_type": "text"
      },
      "source": [
        "<a href=\"https://colab.research.google.com/github/gksxogns79/EXE/blob/main/Untitled0.ipynb\" target=\"_parent\"><img src=\"https://colab.research.google.com/assets/colab-badge.svg\" alt=\"Open In Colab\"/></a>"
      ]
    },
    {
      "cell_type": "code",
      "execution_count": 2,
      "metadata": {
        "colab": {
          "base_uri": "https://localhost:8080/"
        },
        "id": "0K1vnM2cyc3B",
        "outputId": "17aa54a7-e747-4ab4-abf0-900e73645856"
      },
      "outputs": [
        {
          "output_type": "stream",
          "name": "stdout",
          "text": [
            "물체의 무게를 입력하시오(kg) : 10\n",
            "물체의 속도를 입력하시오(m/s) : 100\n",
            "물체는 50000.0 (줄)의 에너지를 가지고 있다.\n"
          ]
        }
      ],
      "source": [
        "kg = int(input(\"물체의 무게를 입력하시오(kg) : \"))\n",
        "v = int(input(\"물체의 속도를 입력하시오(m/s) : \"))\n",
        "j = 0.5 * kg * v ** 2\n",
        "print(\"물체는\", j, \"(줄)의 에너지를 가지고 있다.\")"
      ]
    }
  ]
}